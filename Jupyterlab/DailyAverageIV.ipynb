{
 "cells": [
  {
   "cell_type": "markdown",
   "id": "52d20984-d19f-49c6-8691-76e9c071ea29",
   "metadata": {},
   "source": []
  },
  {
   "cell_type": "code",
   "execution_count": null,
   "id": "f4bced60-0dc4-4d57-aa20-4a117fe0f678",
   "metadata": {},
   "outputs": [],
   "source": [
    "import pandas as pd\n",
    "from tqdm import tqdm\n",
    "import matplotlib.pyplot as plt\n",
    "import os\n",
    "import sys\n",
    "import yfinance as yf\n",
    "tqdm.pandas()\n",
    "sys.path.insert(2,'..')\n"
   ]
  },
  {
   "cell_type": "code",
   "execution_count": 3,
   "id": "1015e723-1b5d-47e3-9824-44f4c7f55238",
   "metadata": {},
   "outputs": [],
   "source": [
    "import sys\n",
    "sys.path.insert(2,'..')\n"
   ]
  },
  {
   "cell_type": "code",
   "execution_count": 4,
   "id": "2e935d9a-d4f7-47c3-b73d-b92b75f194c0",
   "metadata": {
    "scrolled": true
   },
   "outputs": [],
   "source": [
    "import functions\n",
    "import selection\n",
    "import DataPull\n",
    "import annualized_rv as arv"
   ]
  },
  {
   "cell_type": "code",
   "execution_count": 5,
   "id": "a8ab3fe9-cbcc-4734-bdd3-6f9cdfc1e8dd",
   "metadata": {},
   "outputs": [],
   "source": [
    "dataPulled = DataPull.pull_microsoft_option_data()\n"
   ]
  },
  {
   "cell_type": "code",
   "execution_count": 6,
   "id": "3bf5f448-2f08-4f4c-b248-59d0bcd2faf0",
   "metadata": {},
   "outputs": [
    {
     "name": "stderr",
     "output_type": "stream",
     "text": [
      "  0%|▍                                                                            | 301/60723 [00:01<03:24, 296.09it/s]X:\\github\\ThesisProject\\Jupyterlab\\..\\functions.py:75: RuntimeWarning: overflow encountered in scalar power\n",
      "  d1 = (np.log(s / k) + (r + 0.5 * sigma ** 2) * t) / (sigma * np.sqrt(t))\n",
      "X:\\github\\ThesisProject\\Jupyterlab\\..\\functions.py:8: RuntimeWarning: overflow encountered in scalar power\n",
      "  d1 = (np.log(S / K) + (r + 0.5 * sigma ** 2) * t) / (sigma * np.sqrt(t))\n",
      "  5%|███▌                                                                        | 2857/60723 [00:13<03:02, 317.63it/s]C:\\Users\\Ahmed\\miniconda3\\envs\\myenv\\Lib\\site-packages\\scipy\\optimize\\_zeros_py.py:306: RuntimeWarning: overflow encountered in scalar divide\n",
      "  newton_step = fval / fder\n",
      "X:\\github\\ThesisProject\\Jupyterlab\\..\\functions.py:75: RuntimeWarning: invalid value encountered in scalar divide\n",
      "  d1 = (np.log(s / k) + (r + 0.5 * sigma ** 2) * t) / (sigma * np.sqrt(t))\n",
      "X:\\github\\ThesisProject\\Jupyterlab\\..\\functions.py:8: RuntimeWarning: invalid value encountered in scalar divide\n",
      "  d1 = (np.log(S / K) + (r + 0.5 * sigma ** 2) * t) / (sigma * np.sqrt(t))\n",
      " 13%|█████████▋                                                                  | 7721/60723 [00:35<04:04, 216.69it/s]\n"
     ]
    },
    {
     "ename": "KeyboardInterrupt",
     "evalue": "",
     "output_type": "error",
     "traceback": [
      "\u001B[1;31m---------------------------------------------------------------------------\u001B[0m",
      "\u001B[1;31mKeyboardInterrupt\u001B[0m                         Traceback (most recent call last)",
      "Cell \u001B[1;32mIn[6], line 2\u001B[0m\n\u001B[0;32m      1\u001B[0m selected_data\u001B[38;5;241m=\u001B[39m selection\u001B[38;5;241m.\u001B[39mfilter_options(dataPulled)\n\u001B[1;32m----> 2\u001B[0m selected_data[\u001B[38;5;124m'\u001B[39m\u001B[38;5;124mimplied_volatility\u001B[39m\u001B[38;5;124m'\u001B[39m] \u001B[38;5;241m=\u001B[39m \u001B[43mselected_data\u001B[49m\u001B[38;5;241;43m.\u001B[39;49m\u001B[43mprogress_apply\u001B[49m\u001B[43m(\u001B[49m\u001B[43mfunctions\u001B[49m\u001B[38;5;241;43m.\u001B[39;49m\u001B[43mimplied_volatility\u001B[49m\u001B[43m,\u001B[49m\u001B[43maxis\u001B[49m\u001B[43m \u001B[49m\u001B[38;5;241;43m=\u001B[39;49m\u001B[38;5;241;43m1\u001B[39;49m\u001B[43m \u001B[49m\u001B[43m)\u001B[49m\n",
      "File \u001B[1;32m~\\miniconda3\\envs\\myenv\\Lib\\site-packages\\tqdm\\std.py:917\u001B[0m, in \u001B[0;36mtqdm.pandas.<locals>.inner_generator.<locals>.inner\u001B[1;34m(df, func, *args, **kwargs)\u001B[0m\n\u001B[0;32m    914\u001B[0m \u001B[38;5;66;03m# Apply the provided function (in **kwargs)\u001B[39;00m\n\u001B[0;32m    915\u001B[0m \u001B[38;5;66;03m# on the df using our wrapper (which provides bar updating)\u001B[39;00m\n\u001B[0;32m    916\u001B[0m \u001B[38;5;28;01mtry\u001B[39;00m:\n\u001B[1;32m--> 917\u001B[0m     \u001B[38;5;28;01mreturn\u001B[39;00m \u001B[38;5;28;43mgetattr\u001B[39;49m\u001B[43m(\u001B[49m\u001B[43mdf\u001B[49m\u001B[43m,\u001B[49m\u001B[43m \u001B[49m\u001B[43mdf_function\u001B[49m\u001B[43m)\u001B[49m\u001B[43m(\u001B[49m\u001B[43mwrapper\u001B[49m\u001B[43m,\u001B[49m\u001B[43m \u001B[49m\u001B[38;5;241;43m*\u001B[39;49m\u001B[38;5;241;43m*\u001B[39;49m\u001B[43mkwargs\u001B[49m\u001B[43m)\u001B[49m\n\u001B[0;32m    918\u001B[0m \u001B[38;5;28;01mfinally\u001B[39;00m:\n\u001B[0;32m    919\u001B[0m     t\u001B[38;5;241m.\u001B[39mclose()\n",
      "File \u001B[1;32m~\\miniconda3\\envs\\myenv\\Lib\\site-packages\\pandas\\core\\frame.py:10034\u001B[0m, in \u001B[0;36mDataFrame.apply\u001B[1;34m(self, func, axis, raw, result_type, args, by_row, **kwargs)\u001B[0m\n\u001B[0;32m  10022\u001B[0m \u001B[38;5;28;01mfrom\u001B[39;00m \u001B[38;5;21;01mpandas\u001B[39;00m\u001B[38;5;21;01m.\u001B[39;00m\u001B[38;5;21;01mcore\u001B[39;00m\u001B[38;5;21;01m.\u001B[39;00m\u001B[38;5;21;01mapply\u001B[39;00m \u001B[38;5;28;01mimport\u001B[39;00m frame_apply\n\u001B[0;32m  10024\u001B[0m op \u001B[38;5;241m=\u001B[39m frame_apply(\n\u001B[0;32m  10025\u001B[0m     \u001B[38;5;28mself\u001B[39m,\n\u001B[0;32m  10026\u001B[0m     func\u001B[38;5;241m=\u001B[39mfunc,\n\u001B[1;32m   (...)\u001B[0m\n\u001B[0;32m  10032\u001B[0m     kwargs\u001B[38;5;241m=\u001B[39mkwargs,\n\u001B[0;32m  10033\u001B[0m )\n\u001B[1;32m> 10034\u001B[0m \u001B[38;5;28;01mreturn\u001B[39;00m \u001B[43mop\u001B[49m\u001B[38;5;241;43m.\u001B[39;49m\u001B[43mapply\u001B[49m\u001B[43m(\u001B[49m\u001B[43m)\u001B[49m\u001B[38;5;241m.\u001B[39m__finalize__(\u001B[38;5;28mself\u001B[39m, method\u001B[38;5;241m=\u001B[39m\u001B[38;5;124m\"\u001B[39m\u001B[38;5;124mapply\u001B[39m\u001B[38;5;124m\"\u001B[39m)\n",
      "File \u001B[1;32m~\\miniconda3\\envs\\myenv\\Lib\\site-packages\\pandas\\core\\apply.py:837\u001B[0m, in \u001B[0;36mFrameApply.apply\u001B[1;34m(self)\u001B[0m\n\u001B[0;32m    834\u001B[0m \u001B[38;5;28;01melif\u001B[39;00m \u001B[38;5;28mself\u001B[39m\u001B[38;5;241m.\u001B[39mraw:\n\u001B[0;32m    835\u001B[0m     \u001B[38;5;28;01mreturn\u001B[39;00m \u001B[38;5;28mself\u001B[39m\u001B[38;5;241m.\u001B[39mapply_raw()\n\u001B[1;32m--> 837\u001B[0m \u001B[38;5;28;01mreturn\u001B[39;00m \u001B[38;5;28;43mself\u001B[39;49m\u001B[38;5;241;43m.\u001B[39;49m\u001B[43mapply_standard\u001B[49m\u001B[43m(\u001B[49m\u001B[43m)\u001B[49m\n",
      "File \u001B[1;32m~\\miniconda3\\envs\\myenv\\Lib\\site-packages\\pandas\\core\\apply.py:965\u001B[0m, in \u001B[0;36mFrameApply.apply_standard\u001B[1;34m(self)\u001B[0m\n\u001B[0;32m    964\u001B[0m \u001B[38;5;28;01mdef\u001B[39;00m \u001B[38;5;21mapply_standard\u001B[39m(\u001B[38;5;28mself\u001B[39m):\n\u001B[1;32m--> 965\u001B[0m     results, res_index \u001B[38;5;241m=\u001B[39m \u001B[38;5;28;43mself\u001B[39;49m\u001B[38;5;241;43m.\u001B[39;49m\u001B[43mapply_series_generator\u001B[49m\u001B[43m(\u001B[49m\u001B[43m)\u001B[49m\n\u001B[0;32m    967\u001B[0m     \u001B[38;5;66;03m# wrap results\u001B[39;00m\n\u001B[0;32m    968\u001B[0m     \u001B[38;5;28;01mreturn\u001B[39;00m \u001B[38;5;28mself\u001B[39m\u001B[38;5;241m.\u001B[39mwrap_results(results, res_index)\n",
      "File \u001B[1;32m~\\miniconda3\\envs\\myenv\\Lib\\site-packages\\pandas\\core\\apply.py:981\u001B[0m, in \u001B[0;36mFrameApply.apply_series_generator\u001B[1;34m(self)\u001B[0m\n\u001B[0;32m    978\u001B[0m \u001B[38;5;28;01mwith\u001B[39;00m option_context(\u001B[38;5;124m\"\u001B[39m\u001B[38;5;124mmode.chained_assignment\u001B[39m\u001B[38;5;124m\"\u001B[39m, \u001B[38;5;28;01mNone\u001B[39;00m):\n\u001B[0;32m    979\u001B[0m     \u001B[38;5;28;01mfor\u001B[39;00m i, v \u001B[38;5;129;01min\u001B[39;00m \u001B[38;5;28menumerate\u001B[39m(series_gen):\n\u001B[0;32m    980\u001B[0m         \u001B[38;5;66;03m# ignore SettingWithCopy here in case the user mutates\u001B[39;00m\n\u001B[1;32m--> 981\u001B[0m         results[i] \u001B[38;5;241m=\u001B[39m \u001B[38;5;28;43mself\u001B[39;49m\u001B[38;5;241;43m.\u001B[39;49m\u001B[43mfunc\u001B[49m\u001B[43m(\u001B[49m\u001B[43mv\u001B[49m\u001B[43m,\u001B[49m\u001B[43m \u001B[49m\u001B[38;5;241;43m*\u001B[39;49m\u001B[38;5;28;43mself\u001B[39;49m\u001B[38;5;241;43m.\u001B[39;49m\u001B[43margs\u001B[49m\u001B[43m,\u001B[49m\u001B[43m \u001B[49m\u001B[38;5;241;43m*\u001B[39;49m\u001B[38;5;241;43m*\u001B[39;49m\u001B[38;5;28;43mself\u001B[39;49m\u001B[38;5;241;43m.\u001B[39;49m\u001B[43mkwargs\u001B[49m\u001B[43m)\u001B[49m\n\u001B[0;32m    982\u001B[0m         \u001B[38;5;28;01mif\u001B[39;00m \u001B[38;5;28misinstance\u001B[39m(results[i], ABCSeries):\n\u001B[0;32m    983\u001B[0m             \u001B[38;5;66;03m# If we have a view on v, we need to make a copy because\u001B[39;00m\n\u001B[0;32m    984\u001B[0m             \u001B[38;5;66;03m#  series_generator will swap out the underlying data\u001B[39;00m\n\u001B[0;32m    985\u001B[0m             results[i] \u001B[38;5;241m=\u001B[39m results[i]\u001B[38;5;241m.\u001B[39mcopy(deep\u001B[38;5;241m=\u001B[39m\u001B[38;5;28;01mFalse\u001B[39;00m)\n",
      "File \u001B[1;32m~\\miniconda3\\envs\\myenv\\Lib\\site-packages\\tqdm\\std.py:912\u001B[0m, in \u001B[0;36mtqdm.pandas.<locals>.inner_generator.<locals>.inner.<locals>.wrapper\u001B[1;34m(*args, **kwargs)\u001B[0m\n\u001B[0;32m    906\u001B[0m \u001B[38;5;28;01mdef\u001B[39;00m \u001B[38;5;21mwrapper\u001B[39m(\u001B[38;5;241m*\u001B[39margs, \u001B[38;5;241m*\u001B[39m\u001B[38;5;241m*\u001B[39mkwargs):\n\u001B[0;32m    907\u001B[0m     \u001B[38;5;66;03m# update tbar correctly\u001B[39;00m\n\u001B[0;32m    908\u001B[0m     \u001B[38;5;66;03m# it seems `pandas apply` calls `func` twice\u001B[39;00m\n\u001B[0;32m    909\u001B[0m     \u001B[38;5;66;03m# on the first column/row to decide whether it can\u001B[39;00m\n\u001B[0;32m    910\u001B[0m     \u001B[38;5;66;03m# take a fast or slow code path; so stop when t.total==t.n\u001B[39;00m\n\u001B[0;32m    911\u001B[0m     t\u001B[38;5;241m.\u001B[39mupdate(n\u001B[38;5;241m=\u001B[39m\u001B[38;5;241m1\u001B[39m \u001B[38;5;28;01mif\u001B[39;00m \u001B[38;5;129;01mnot\u001B[39;00m t\u001B[38;5;241m.\u001B[39mtotal \u001B[38;5;129;01mor\u001B[39;00m t\u001B[38;5;241m.\u001B[39mn \u001B[38;5;241m<\u001B[39m t\u001B[38;5;241m.\u001B[39mtotal \u001B[38;5;28;01melse\u001B[39;00m \u001B[38;5;241m0\u001B[39m)\n\u001B[1;32m--> 912\u001B[0m     \u001B[38;5;28;01mreturn\u001B[39;00m \u001B[43mfunc\u001B[49m\u001B[43m(\u001B[49m\u001B[38;5;241;43m*\u001B[39;49m\u001B[43margs\u001B[49m\u001B[43m,\u001B[49m\u001B[43m \u001B[49m\u001B[38;5;241;43m*\u001B[39;49m\u001B[38;5;241;43m*\u001B[39;49m\u001B[43mkwargs\u001B[49m\u001B[43m)\u001B[49m\n",
      "File \u001B[1;32mX:\\github\\ThesisProject\\Jupyterlab\\..\\functions.py:51\u001B[0m, in \u001B[0;36mimplied_volatility\u001B[1;34m(row)\u001B[0m\n\u001B[0;32m     49\u001B[0m sigma_guess \u001B[38;5;241m=\u001B[39m inflection_point(s, k, t, r)\n\u001B[0;32m     50\u001B[0m \u001B[38;5;28;01mtry\u001B[39;00m:\n\u001B[1;32m---> 51\u001B[0m     \u001B[38;5;28;01mreturn\u001B[39;00m \u001B[43mnewton\u001B[49m\u001B[43m(\u001B[49m\u001B[43mfunc\u001B[49m\u001B[38;5;241;43m=\u001B[39;49m\u001B[43mobjective\u001B[49m\u001B[43m,\u001B[49m\u001B[43m \u001B[49m\u001B[43mx0\u001B[49m\u001B[38;5;241;43m=\u001B[39;49m\u001B[43msigma_guess\u001B[49m\u001B[43m,\u001B[49m\u001B[43m \u001B[49m\u001B[43mfprime\u001B[49m\u001B[38;5;241;43m=\u001B[39;49m\u001B[43mobjective_function_vega\u001B[49m\u001B[43m,\u001B[49m\u001B[43m \u001B[49m\u001B[43mtol\u001B[49m\u001B[38;5;241;43m=\u001B[39;49m\u001B[38;5;241;43m1e-9\u001B[39;49m\u001B[43m,\u001B[49m\u001B[43m \u001B[49m\u001B[43mmaxiter\u001B[49m\u001B[38;5;241;43m=\u001B[39;49m\u001B[38;5;241;43m1000\u001B[39;49m\u001B[43m)\u001B[49m\n\u001B[0;32m     52\u001B[0m \u001B[38;5;28;01mexcept\u001B[39;00m \u001B[38;5;167;01mRuntimeError\u001B[39;00m \u001B[38;5;28;01mas\u001B[39;00m e:\n\u001B[0;32m     53\u001B[0m     \u001B[38;5;66;03m# Handle cases where Newton's method fails to converge\u001B[39;00m\n\u001B[0;32m     54\u001B[0m     \u001B[38;5;28;01mreturn\u001B[39;00m \u001B[38;5;28;01mNone\u001B[39;00m\n",
      "File \u001B[1;32m~\\miniconda3\\envs\\myenv\\Lib\\site-packages\\scipy\\optimize\\_zeros_py.py:288\u001B[0m, in \u001B[0;36mnewton\u001B[1;34m(func, x0, fprime, args, tol, maxiter, fprime2, x1, rtol, full_output, disp)\u001B[0m\n\u001B[0;32m    284\u001B[0m \u001B[38;5;28;01mif\u001B[39;00m fprime \u001B[38;5;129;01mis\u001B[39;00m \u001B[38;5;129;01mnot\u001B[39;00m \u001B[38;5;28;01mNone\u001B[39;00m:\n\u001B[0;32m    285\u001B[0m     \u001B[38;5;66;03m# Newton-Raphson method\u001B[39;00m\n\u001B[0;32m    286\u001B[0m     \u001B[38;5;28;01mfor\u001B[39;00m itr \u001B[38;5;129;01min\u001B[39;00m \u001B[38;5;28mrange\u001B[39m(maxiter):\n\u001B[0;32m    287\u001B[0m         \u001B[38;5;66;03m# first evaluate fval\u001B[39;00m\n\u001B[1;32m--> 288\u001B[0m         fval \u001B[38;5;241m=\u001B[39m \u001B[43mfunc\u001B[49m\u001B[43m(\u001B[49m\u001B[43mp0\u001B[49m\u001B[43m,\u001B[49m\u001B[43m \u001B[49m\u001B[38;5;241;43m*\u001B[39;49m\u001B[43margs\u001B[49m\u001B[43m)\u001B[49m\n\u001B[0;32m    289\u001B[0m         funcalls \u001B[38;5;241m+\u001B[39m\u001B[38;5;241m=\u001B[39m \u001B[38;5;241m1\u001B[39m\n\u001B[0;32m    290\u001B[0m         \u001B[38;5;66;03m# If fval is 0, a root has been found, then terminate\u001B[39;00m\n",
      "File \u001B[1;32mX:\\github\\ThesisProject\\Jupyterlab\\..\\functions.py:42\u001B[0m, in \u001B[0;36mimplied_volatility.<locals>.objective\u001B[1;34m(sigma)\u001B[0m\n\u001B[0;32m     40\u001B[0m \u001B[38;5;28;01mdef\u001B[39;00m \u001B[38;5;21mobjective\u001B[39m(sigma):\n\u001B[0;32m     41\u001B[0m     \u001B[38;5;28;01mif\u001B[39;00m is_call:\n\u001B[1;32m---> 42\u001B[0m         price \u001B[38;5;241m=\u001B[39m \u001B[43mblack_scholes_call\u001B[49m\u001B[43m(\u001B[49m\u001B[43ms\u001B[49m\u001B[43m,\u001B[49m\u001B[43m \u001B[49m\u001B[43mk\u001B[49m\u001B[43m,\u001B[49m\u001B[43m \u001B[49m\u001B[43mt\u001B[49m\u001B[43m,\u001B[49m\u001B[43m \u001B[49m\u001B[43mr\u001B[49m\u001B[43m,\u001B[49m\u001B[43m \u001B[49m\u001B[43msigma\u001B[49m\u001B[43m)\u001B[49m\n\u001B[0;32m     43\u001B[0m     \u001B[38;5;28;01melse\u001B[39;00m:\n\u001B[0;32m     44\u001B[0m         price \u001B[38;5;241m=\u001B[39m black_scholes_put(s, k, t, r, sigma)\n",
      "File \u001B[1;32mX:\\github\\ThesisProject\\Jupyterlab\\..\\functions.py:78\u001B[0m, in \u001B[0;36mblack_scholes_call\u001B[1;34m(s, k, t, r, sigma)\u001B[0m\n\u001B[0;32m     75\u001B[0m d1 \u001B[38;5;241m=\u001B[39m (np\u001B[38;5;241m.\u001B[39mlog(s \u001B[38;5;241m/\u001B[39m k) \u001B[38;5;241m+\u001B[39m (r \u001B[38;5;241m+\u001B[39m \u001B[38;5;241m0.5\u001B[39m \u001B[38;5;241m*\u001B[39m sigma \u001B[38;5;241m*\u001B[39m\u001B[38;5;241m*\u001B[39m \u001B[38;5;241m2\u001B[39m) \u001B[38;5;241m*\u001B[39m t) \u001B[38;5;241m/\u001B[39m (sigma \u001B[38;5;241m*\u001B[39m np\u001B[38;5;241m.\u001B[39msqrt(t))\n\u001B[0;32m     76\u001B[0m d2 \u001B[38;5;241m=\u001B[39m d1 \u001B[38;5;241m-\u001B[39m sigma \u001B[38;5;241m*\u001B[39m np\u001B[38;5;241m.\u001B[39msqrt(t)\n\u001B[1;32m---> 78\u001B[0m call_price \u001B[38;5;241m=\u001B[39m s \u001B[38;5;241m*\u001B[39m \u001B[43mnorm\u001B[49m\u001B[38;5;241;43m.\u001B[39;49m\u001B[43mcdf\u001B[49m\u001B[43m(\u001B[49m\u001B[43md1\u001B[49m\u001B[43m)\u001B[49m \u001B[38;5;241m-\u001B[39m k \u001B[38;5;241m*\u001B[39m np\u001B[38;5;241m.\u001B[39mexp(\u001B[38;5;241m-\u001B[39mr \u001B[38;5;241m*\u001B[39m t) \u001B[38;5;241m*\u001B[39m norm\u001B[38;5;241m.\u001B[39mcdf(d2)\n\u001B[0;32m     79\u001B[0m \u001B[38;5;28;01mreturn\u001B[39;00m call_price\n",
      "File \u001B[1;32m~\\miniconda3\\envs\\myenv\\Lib\\site-packages\\scipy\\stats\\_distn_infrastructure.py:2183\u001B[0m, in \u001B[0;36mrv_continuous.cdf\u001B[1;34m(self, x, *args, **kwds)\u001B[0m\n\u001B[0;32m   2181\u001B[0m output \u001B[38;5;241m=\u001B[39m zeros(shape(cond), dtyp)\n\u001B[0;32m   2182\u001B[0m place(output, (\u001B[38;5;241m1\u001B[39m\u001B[38;5;241m-\u001B[39mcond0)\u001B[38;5;241m+\u001B[39mnp\u001B[38;5;241m.\u001B[39misnan(x), \u001B[38;5;28mself\u001B[39m\u001B[38;5;241m.\u001B[39mbadvalue)\n\u001B[1;32m-> 2183\u001B[0m \u001B[43mplace\u001B[49m\u001B[43m(\u001B[49m\u001B[43moutput\u001B[49m\u001B[43m,\u001B[49m\u001B[43m \u001B[49m\u001B[43mcond2\u001B[49m\u001B[43m,\u001B[49m\u001B[43m \u001B[49m\u001B[38;5;241;43m1.0\u001B[39;49m\u001B[43m)\u001B[49m\n\u001B[0;32m   2184\u001B[0m \u001B[38;5;28;01mif\u001B[39;00m np\u001B[38;5;241m.\u001B[39many(cond):  \u001B[38;5;66;03m# call only if at least 1 entry\u001B[39;00m\n\u001B[0;32m   2185\u001B[0m     goodargs \u001B[38;5;241m=\u001B[39m argsreduce(cond, \u001B[38;5;241m*\u001B[39m((x,)\u001B[38;5;241m+\u001B[39margs))\n",
      "File \u001B[1;32m<__array_function__ internals>:200\u001B[0m, in \u001B[0;36mplace\u001B[1;34m(*args, **kwargs)\u001B[0m\n",
      "File \u001B[1;32m~\\miniconda3\\envs\\myenv\\Lib\\site-packages\\numpy\\lib\\function_base.py:1954\u001B[0m, in \u001B[0;36mplace\u001B[1;34m(arr, mask, vals)\u001B[0m\n\u001B[0;32m   1950\u001B[0m \u001B[38;5;28;01mif\u001B[39;00m \u001B[38;5;129;01mnot\u001B[39;00m \u001B[38;5;28misinstance\u001B[39m(arr, np\u001B[38;5;241m.\u001B[39mndarray):\n\u001B[0;32m   1951\u001B[0m     \u001B[38;5;28;01mraise\u001B[39;00m \u001B[38;5;167;01mTypeError\u001B[39;00m(\u001B[38;5;124m\"\u001B[39m\u001B[38;5;124margument 1 must be numpy.ndarray, \u001B[39m\u001B[38;5;124m\"\u001B[39m\n\u001B[0;32m   1952\u001B[0m                     \u001B[38;5;124m\"\u001B[39m\u001B[38;5;124mnot \u001B[39m\u001B[38;5;132;01m{name}\u001B[39;00m\u001B[38;5;124m\"\u001B[39m\u001B[38;5;241m.\u001B[39mformat(name\u001B[38;5;241m=\u001B[39m\u001B[38;5;28mtype\u001B[39m(arr)\u001B[38;5;241m.\u001B[39m\u001B[38;5;18m__name__\u001B[39m))\n\u001B[1;32m-> 1954\u001B[0m \u001B[38;5;28;01mreturn\u001B[39;00m \u001B[43m_insert\u001B[49m\u001B[43m(\u001B[49m\u001B[43marr\u001B[49m\u001B[43m,\u001B[49m\u001B[43m \u001B[49m\u001B[43mmask\u001B[49m\u001B[43m,\u001B[49m\u001B[43m \u001B[49m\u001B[43mvals\u001B[49m\u001B[43m)\u001B[49m\n",
      "\u001B[1;31mKeyboardInterrupt\u001B[0m: "
     ]
    }
   ],
   "source": [
    "selected_data= selection.filter_options(dataPulled)\n",
    "selected_data['implied_volatility'] = selected_data.progress_apply(functions.implied_volatility,axis =1 )\n"
   ]
  },
  {
   "cell_type": "code",
   "execution_count": null,
   "id": "b58f40d8-8322-4d2f-8366-0dccce6a09fa",
   "metadata": {},
   "outputs": [],
   "source": [
    "dailyAverageIV= functions.average_daily_implied_volatility(selected_data)\n"
   ]
  },
  {
   "cell_type": "code",
   "execution_count": null,
   "id": "095cdfef-632a-4f07-bc5f-6fbef8e6c2f7",
   "metadata": {},
   "outputs": [],
   "source": [
    "stock_data = yf.download('MSFT', start='2016-01-01', end='2023-12-31')\n",
    "stock_data['Daily Return'] = stock_data['Adj Close'].pct_change()\n",
    "\n",
    "window = 21\n",
    "stock_data['1M Realized Volatility'] = arv.annualized_volatility(stock_data['Daily Return'],window)\n",
    "\n",
    "\n",
    "#plotting\n",
    "\n",
    "plt.figure(figsize=(12, 5))\n",
    "plt.plot(dailyAverageIV['date'], dailyAverageIV['average_iv'],label='Average Implied Volatility')\n",
    "plt.plot(stock_data.index, stock_data['1M Realized Volatility'], label='1M Realized Volatility')\n",
    "\n",
    "plt.title('Average Implied Volatility Over Time')\n",
    "plt.xlabel('Date')\n",
    "plt.ylabel('Average Implied Volatility')\n",
    "plt.grid(True)\n",
    "plt.legend()\n",
    "\n",
    "#compare with actual volatiltiy\n",
    "\n",
    "plt.show()"
   ]
  },
  {
   "cell_type": "code",
   "execution_count": null,
   "id": "ab9af80c-b839-4533-9975-e8c30a8e7111",
   "metadata": {},
   "outputs": [],
   "source": [
    "# current_dir = os.getcwd()\n",
    "# data_dir = os.path.join(current_dir, 'data')\n",
    "# os.makedirs(data_dir, exist_ok=True)\n",
    "# series.to_pickle(os.path.join(data_dir, 'average_iv_series_with_date_microsoft.pkl'))\n"
   ]
  },
  {
   "cell_type": "code",
   "execution_count": null,
   "id": "e3d3580c-fe42-45ce-90a7-e0725d533b50",
   "metadata": {},
   "outputs": [],
   "source": [
    "dailyAverageIV"
   ]
  },
  {
   "cell_type": "code",
   "execution_count": null,
   "id": "9e4e50e8-2f11-4aeb-bca6-7dccf5adf58a",
   "metadata": {},
   "outputs": [],
   "source": [
    "car = 'm1sft_mean_iv_2017_220222'\n",
    "dailyAverageIV.to_pickle(os.path.join('historicImpliedVolData', car+'.pkl',))"
   ]
  },
  {
   "cell_type": "code",
   "execution_count": null,
   "id": "e46042e8-e997-445c-8327-651f86154c68",
   "metadata": {},
   "outputs": [],
   "source": [
    "# in function form for usability \n",
    "\n",
    "def dailymeanVolpkl(data : pd.DataFrame ,name : str) -> None:\n",
    "    selected_data= selection.filter_options(data) # filters data based on time to maturity/moneyness \n",
    "    selected_data['implied_volatility'] = selected_data.progress_apply(functions.implied_volatility,axis =1 ) #calcs daily iv\n",
    "    \n",
    "    dailyAverageIV= functions.average_daily_implied_volatility(selected_data) #means the IV\n",
    "    dailyAverageIV.to_pickle(os.path.join('historicImpliedVolData', name+'.pkl'))\n",
    "    print(name , \"done\")"
   ]
  },
  {
   "cell_type": "code",
   "execution_count": null,
   "id": "3449559f-f640-46d8-b953-d1e9c7cb3c75",
   "metadata": {},
   "outputs": [],
   "source": [
    "dailymeanVolpkl(DataPull.pull_alphabet_option_data(),'goog_mean_iv_2017_2022')"
   ]
  },
  {
   "cell_type": "code",
   "execution_count": null,
   "id": "0e2eda42-64c1-40cb-b65b-6483d1eaea84",
   "metadata": {},
   "outputs": [],
   "source": [
    "dailymeanVolpkl(DataPull.pull_apple_option_data(),'aapl_mean_iv_2017_2022')"
   ]
  },
  {
   "cell_type": "code",
   "execution_count": null,
   "id": "e824b304-ec23-4c7f-8ce5-8cb44804a9d1",
   "metadata": {},
   "outputs": [],
   "source": [
    "dailymeanVolpkl(DataPull.pull_nasdaq100_option_data(),'ndx_mean_iv_2017_2022')"
   ]
  },
  {
   "cell_type": "code",
   "execution_count": null,
   "id": "91528605-adf7-455f-9846-f9d02521393b",
   "metadata": {},
   "outputs": [],
   "source": [
    "dailymeanVolpkl(DataPull.pull_sp500_option_data(),'spc_mean_iv_2017_2022')"
   ]
  },
  {
   "cell_type": "code",
   "execution_count": null,
   "id": "99a58b64-cb96-48f2-8478-38bbf3335af2",
   "metadata": {},
   "outputs": [],
   "source": []
  }
 ],
 "metadata": {
  "kernelspec": {
   "display_name": "Python 3 (ipykernel)",
   "language": "python",
   "name": "python3"
  },
  "language_info": {
   "codemirror_mode": {
    "name": "ipython",
    "version": 3
   },
   "file_extension": ".py",
   "mimetype": "text/x-python",
   "name": "python",
   "nbconvert_exporter": "python",
   "pygments_lexer": "ipython3",
   "version": "3.11.8"
  }
 },
 "nbformat": 4,
 "nbformat_minor": 5
}

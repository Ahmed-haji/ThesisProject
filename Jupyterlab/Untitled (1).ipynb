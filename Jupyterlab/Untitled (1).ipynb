{
 "cells": [
  {
   "cell_type": "code",
   "execution_count": 33,
   "id": "2b2ac1c1-886e-47bb-b717-632ae75e878f",
   "metadata": {},
   "outputs": [],
   "source": [
    "import pandas as pd\n"
   ]
  },
  {
   "cell_type": "code",
   "execution_count": 34,
   "id": "1015e723-1b5d-47e3-9824-44f4c7f55238",
   "metadata": {},
   "outputs": [],
   "source": [
    "import sys\n",
    "sys.path.insert(2,'..')\n"
   ]
  },
  {
   "cell_type": "code",
   "execution_count": 6,
   "id": "2e935d9a-d4f7-47c3-b73d-b92b75f194c0",
   "metadata": {
    "scrolled": true
   },
   "outputs": [],
   "source": [
    "import functions\n",
    "import selection"
   ]
  },
  {
   "cell_type": "code",
   "execution_count": null,
   "id": "5be2f2d7-e186-4384-a038-645cda9482c4",
   "metadata": {},
   "outputs": [],
   "source": []
  }
 ],
 "metadata": {
  "kernelspec": {
   "display_name": "Python 3 (ipykernel)",
   "language": "python",
   "name": "python3"
  },
  "language_info": {
   "codemirror_mode": {
    "name": "ipython",
    "version": 3
   },
   "file_extension": ".py",
   "mimetype": "text/x-python",
   "name": "python",
   "nbconvert_exporter": "python",
   "pygments_lexer": "ipython3",
   "version": "3.11.8"
  }
 },
 "nbformat": 4,
 "nbformat_minor": 5
}

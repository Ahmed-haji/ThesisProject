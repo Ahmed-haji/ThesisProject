{
 "cells": [
  {
   "cell_type": "code",
   "execution_count": 1,
   "id": "2b2ac1c1-886e-47bb-b717-632ae75e878f",
   "metadata": {},
   "outputs": [],
   "source": [
    "import pandas as pd\n",
    "from tqdm import tqdm\n",
    "tqdm.pandas()"
   ]
  },
  {
   "cell_type": "code",
   "execution_count": 2,
   "id": "1015e723-1b5d-47e3-9824-44f4c7f55238",
   "metadata": {},
   "outputs": [],
   "source": [
    "import sys\n",
    "sys.path.insert(2,'..')\n"
   ]
  },
  {
   "cell_type": "code",
   "execution_count": 3,
   "id": "2e935d9a-d4f7-47c3-b73d-b92b75f194c0",
   "metadata": {
    "scrolled": true
   },
   "outputs": [],
   "source": [
    "import functions\n",
    "import selection\n",
    "import DataPull"
   ]
  },
  {
   "cell_type": "code",
   "execution_count": 4,
   "id": "b5048a32-460e-4148-80cb-b6e811151d8b",
   "metadata": {},
   "outputs": [],
   "source": [
    "df_alphabet = DataPull.pull_alphabet()"
   ]
  },
  {
   "cell_type": "code",
   "execution_count": null,
   "id": "068c59b7-ef22-4338-bfef-b1ff29ce024a",
   "metadata": {},
   "outputs": [
    {
     "name": "stderr",
     "output_type": "stream",
     "text": [
      "  0%|                                                                            | 1/273549 [00:00<28:34:12,  2.66it/s]X:\\github\\ThesisProject\\Jupyterlab\\..\\functions.py:46: RuntimeWarning: divide by zero encountered in scalar divide\n",
      "  while (abs(p - c) / v) > tol and max_iter > 0:\n",
      "  1%|█                                                                          | 3900/273549 [00:14<21:04, 213.26it/s]X:\\github\\ThesisProject\\Jupyterlab\\..\\functions.py:46: RuntimeWarning: overflow encountered in scalar divide\n",
      "  while (abs(p - c) / v) > tol and max_iter > 0:\n",
      " 38%|███████████████████████████▉                                             | 104894/273549 [06:24<10:55, 257.14it/s]"
     ]
    }
   ],
   "source": [
    "selection_alphabet= selection.filter_options(df_alphabet)\n",
    "selection_alphabet['implied_volatility'] = selection_alphabet.progress_apply(functions.implied_volatility,axis =1 )\n",
    "average_iv_alphabet = functions.average_daily_implied_volatility(selection_alphabet)\n"
   ]
  },
  {
   "cell_type": "code",
   "execution_count": null,
   "id": "d45d7c20-0114-40dd-b420-cbf740acc281",
   "metadata": {},
   "outputs": [],
   "source": [
    "average_iv_alphabet.to_excel('alphabet_daily_iv.xlsx', sheet_name='Sheet1', index=False)\n"
   ]
  },
  {
   "cell_type": "code",
   "execution_count": null,
   "id": "dcdd06e7-89d5-449d-973f-c4723fdead61",
   "metadata": {},
   "outputs": [],
   "source": [
    "average_iv_alphabet.plot()"
   ]
  },
  {
   "cell_type": "code",
   "execution_count": 19,
   "id": "bb875d2b-8c4c-4274-a761-c3a461cca481",
   "metadata": {},
   "outputs": [
    {
     "ename": "AttributeError",
     "evalue": "module 'DataPull' has no attribute 'pull_apple_2018'",
     "output_type": "error",
     "traceback": [
      "\u001b[1;31m---------------------------------------------------------------------------\u001b[0m",
      "\u001b[1;31mAttributeError\u001b[0m                            Traceback (most recent call last)",
      "Cell \u001b[1;32mIn[19], line 1\u001b[0m\n\u001b[1;32m----> 1\u001b[0m df_apple \u001b[38;5;241m=\u001b[39m \u001b[43mDataPull\u001b[49m\u001b[38;5;241;43m.\u001b[39;49m\u001b[43mpull_apple_2018\u001b[49m()\n\u001b[0;32m      2\u001b[0m df_microsoft \u001b[38;5;241m=\u001b[39m DataPull\u001b[38;5;241m.\u001b[39mpull_microsoft_2018()\n\u001b[0;32m      3\u001b[0m df_sp500 \u001b[38;5;241m=\u001b[39m DataPull\u001b[38;5;241m.\u001b[39mpull_microsoft_2018()\n",
      "\u001b[1;31mAttributeError\u001b[0m: module 'DataPull' has no attribute 'pull_apple_2018'"
     ]
    }
   ],
   "source": [
    "df_apple = DataPull.pull_apple_2018()\n",
    "df_microsoft = DataPull.pull_microsoft_2018()\n",
    "df_sp500 = DataPull.pull_microsoft_2018()\n",
    "df_nasdaq100 = DataPull.pull_microsoft_2018()"
   ]
  },
  {
   "cell_type": "code",
   "execution_count": 15,
   "id": "dc14ca42-36a4-4f22-b7e8-bf9a35337bce",
   "metadata": {},
   "outputs": [],
   "source": [
    "tqdm.pandas()"
   ]
  },
  {
   "cell_type": "code",
   "execution_count": 16,
   "id": "5be2f2d7-e186-4384-a038-645cda9482c4",
   "metadata": {},
   "outputs": [
    {
     "ename": "NameError",
     "evalue": "name 'df_google' is not defined",
     "output_type": "error",
     "traceback": [
      "\u001b[1;31m---------------------------------------------------------------------------\u001b[0m",
      "\u001b[1;31mNameError\u001b[0m                                 Traceback (most recent call last)",
      "Cell \u001b[1;32mIn[16], line 1\u001b[0m\n\u001b[1;32m----> 1\u001b[0m selection_google \u001b[38;5;241m=\u001b[39m selection\u001b[38;5;241m.\u001b[39mfilter_options(\u001b[43mdf_google\u001b[49m)\n\u001b[0;32m      2\u001b[0m selection_apple \u001b[38;5;241m=\u001b[39m selection\u001b[38;5;241m.\u001b[39mfilter_options(df_apple)\n\u001b[0;32m      3\u001b[0m selection_microsoft \u001b[38;5;241m=\u001b[39m selection\u001b[38;5;241m.\u001b[39mfilter_options(df_microsoft)\n",
      "\u001b[1;31mNameError\u001b[0m: name 'df_google' is not defined"
     ]
    }
   ],
   "source": [
    "selection_google = selection.filter_options(df_google)\n",
    "selection_apple = selection.filter_options(df_apple)\n",
    "selection_microsoft = selection.filter_options(df_microsoft)\n"
   ]
  },
  {
   "cell_type": "code",
   "execution_count": 17,
   "id": "e3d50bd7-9ba4-4dcc-b490-5afafff076bb",
   "metadata": {},
   "outputs": [
    {
     "ename": "NameError",
     "evalue": "name 'selection_google' is not defined",
     "output_type": "error",
     "traceback": [
      "\u001b[1;31m---------------------------------------------------------------------------\u001b[0m",
      "\u001b[1;31mNameError\u001b[0m                                 Traceback (most recent call last)",
      "Cell \u001b[1;32mIn[17], line 1\u001b[0m\n\u001b[1;32m----> 1\u001b[0m selection_google[\u001b[38;5;124m'\u001b[39m\u001b[38;5;124mimplied_volatility\u001b[39m\u001b[38;5;124m'\u001b[39m] \u001b[38;5;241m=\u001b[39m \u001b[43mselection_google\u001b[49m\u001b[38;5;241m.\u001b[39mprogress_apply(functions\u001b[38;5;241m.\u001b[39mimplied_volatility,axis \u001b[38;5;241m=\u001b[39m\u001b[38;5;241m1\u001b[39m )\n\u001b[0;32m      2\u001b[0m selection_apple[\u001b[38;5;124m'\u001b[39m\u001b[38;5;124mimplied_volatility\u001b[39m\u001b[38;5;124m'\u001b[39m] \u001b[38;5;241m=\u001b[39m selection_apple\u001b[38;5;241m.\u001b[39mprogress_apply(functions\u001b[38;5;241m.\u001b[39mimplied_volatility,axis \u001b[38;5;241m=\u001b[39m\u001b[38;5;241m1\u001b[39m )\n\u001b[0;32m      3\u001b[0m selection_microsoft[\u001b[38;5;124m'\u001b[39m\u001b[38;5;124mimplied_volatility\u001b[39m\u001b[38;5;124m'\u001b[39m] \u001b[38;5;241m=\u001b[39m selection_microsoft\u001b[38;5;241m.\u001b[39mprogress_apply(functions\u001b[38;5;241m.\u001b[39mimplied_volatility,axis \u001b[38;5;241m=\u001b[39m\u001b[38;5;241m1\u001b[39m )\n",
      "\u001b[1;31mNameError\u001b[0m: name 'selection_google' is not defined"
     ]
    }
   ],
   "source": [
    "selection_google['implied_volatility'] = selection_google.progress_apply(functions.implied_volatility,axis =1 )\n",
    "selection_apple['implied_volatility'] = selection_apple.progress_apply(functions.implied_volatility,axis =1 )\n",
    "selection_microsoft['implied_volatility'] = selection_microsoft.progress_apply(functions.implied_volatility,axis =1 )\n"
   ]
  },
  {
   "cell_type": "code",
   "execution_count": 18,
   "id": "8a841a16-11fe-49bf-bf03-9d78aa88f832",
   "metadata": {},
   "outputs": [
    {
     "ename": "NameError",
     "evalue": "name 'selection_google' is not defined",
     "output_type": "error",
     "traceback": [
      "\u001b[1;31m---------------------------------------------------------------------------\u001b[0m",
      "\u001b[1;31mNameError\u001b[0m                                 Traceback (most recent call last)",
      "Cell \u001b[1;32mIn[18], line 1\u001b[0m\n\u001b[1;32m----> 1\u001b[0m average_iv_google \u001b[38;5;241m=\u001b[39m functions\u001b[38;5;241m.\u001b[39maverage_daily_implied_volatility(\u001b[43mselection_google\u001b[49m)\n\u001b[0;32m      2\u001b[0m average_iv_apple \u001b[38;5;241m=\u001b[39m functions\u001b[38;5;241m.\u001b[39maverage_daily_implied_volatility(selection_apple)\n\u001b[0;32m      3\u001b[0m average_iv_microsoft \u001b[38;5;241m=\u001b[39m functions\u001b[38;5;241m.\u001b[39maverage_daily_implied_volatility(selection_microsoft)\n",
      "\u001b[1;31mNameError\u001b[0m: name 'selection_google' is not defined"
     ]
    }
   ],
   "source": [
    "average_iv_google = functions.average_daily_implied_volatility(selection_google)\n",
    "average_iv_apple = functions.average_daily_implied_volatility(selection_apple)\n",
    "average_iv_microsoft = functions.average_daily_implied_volatility(selection_microsoft)\n"
   ]
  },
  {
   "cell_type": "code",
   "execution_count": null,
   "id": "ffc71648-f811-4786-8847-4e81bee0a330",
   "metadata": {},
   "outputs": [],
   "source": [
    "functions.plot(average_iv_google)"
   ]
  },
  {
   "cell_type": "code",
   "execution_count": null,
   "id": "ba509995-baf4-4662-ad04-a42ccdfb219a",
   "metadata": {
    "scrolled": true
   },
   "outputs": [],
   "source": [
    "functions.plot(average_iv_apple)"
   ]
  },
  {
   "cell_type": "code",
   "execution_count": null,
   "id": "2e275df5-25ac-466e-ae2b-5b379be273f1",
   "metadata": {},
   "outputs": [],
   "source": [
    "functions.plot(average_iv_microsoft)"
   ]
  },
  {
   "cell_type": "code",
   "execution_count": 11,
   "id": "dc7f2cda-5429-40dd-84e9-3e68f04df8f2",
   "metadata": {},
   "outputs": [],
   "source": [
    "import matplotlib.pyplot as plt\n",
    "\n",
    "def plot(daily_average_iv_dict):\n",
    "    \"\"\"\n",
    "    Plot the average implied volatility for multiple stocks on the same graph.\n",
    "\n",
    "    Parameters:\n",
    "    daily_average_iv_dict (dict): A dictionary where keys are stock names and values are DataFrames\n",
    "                                  with 'date' and 'average_iv' columns.\n",
    "    \"\"\"\n",
    "    plt.figure(figsize=(10, 6))  # Set the figure size for better visibility\n",
    "\n",
    "    for stock_name, data in daily_average_iv_dict.items():\n",
    "        # Ensure the date column is in the correct datetime format\n",
    "        data['date'] = pd.to_datetime(data['date'])\n",
    "        # Plot each stock's data with a unique label\n",
    "        plt.plot(data['date'], data['average_iv'], label=stock_name)\n",
    "\n",
    "    plt.xlabel('Date')\n",
    "    plt.ylabel('Average Implied Volatility')\n",
    "    plt.title('Average Implied Volatility Over Time')\n",
    "    plt.legend()  # Add a legend to identify the lines\n",
    "    plt.grid(True)  # Optionally add a grid for easier reading\n",
    "    plt.show()\n",
    "\n",
    "# Example usage:\n",
    "# Assuming you have dataframes df_aapl, df_msft, df_googl for Apple, Microsoft, and Google,\n",
    "# and these dataframes have 'date' and 'average_iv' columns:\n",
    "# stocks_data = {\n",
    "#     'AAPL': df_aapl,\n",
    "#     'MSFT': df_msft,\n",
    "#     'GOOGL': df_googl\n",
    "# }\n",
    "# plot(stocks_data)\n"
   ]
  },
  {
   "cell_type": "code",
   "execution_count": null,
   "id": "c9a3048e-4af1-4851-be3c-ffd6c9c836af",
   "metadata": {},
   "outputs": [],
   "source": [
    "stocks_data = {\n",
    "    'Google': average_iv_google,\n",
    "    'Apple': average_iv_apple,\n",
    "    'Microsoft': average_iv_microsoft\n",
    "}\n",
    "\n",
    "# Call the plot function\n",
    "plot(stocks_data)"
   ]
  },
  {
   "cell_type": "code",
   "execution_count": null,
   "id": "947866f6-863b-4b08-99e3-f1aad8905677",
   "metadata": {},
   "outputs": [],
   "source": []
  }
 ],
 "metadata": {
  "kernelspec": {
   "display_name": "Python 3 (ipykernel)",
   "language": "python",
   "name": "python3"
  },
  "language_info": {
   "codemirror_mode": {
    "name": "ipython",
    "version": 3
   },
   "file_extension": ".py",
   "mimetype": "text/x-python",
   "name": "python",
   "nbconvert_exporter": "python",
   "pygments_lexer": "ipython3",
   "version": "3.11.8"
  }
 },
 "nbformat": 4,
 "nbformat_minor": 5
}

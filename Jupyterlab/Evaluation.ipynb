{
 "cells": [
  {
   "cell_type": "markdown",
   "id": "358ee54a-f0a2-4709-a0b4-d4aa408d900a",
   "metadata": {},
   "source": [
    "Notebook used to evaluate performance of models "
   ]
  },
  {
   "cell_type": "code",
   "execution_count": null,
   "id": "1d805376-7c22-49f1-995c-972647a684b8",
   "metadata": {},
   "outputs": [],
   "source": []
  }
 ],
 "metadata": {
  "kernelspec": {
   "display_name": "Python 3 (ipykernel)",
   "language": "python",
   "name": "python3"
  },
  "language_info": {
   "codemirror_mode": {
    "name": "ipython",
    "version": 3
   },
   "file_extension": ".py",
   "mimetype": "text/x-python",
   "name": "python",
   "nbconvert_exporter": "python",
   "pygments_lexer": "ipython3",
   "version": "3.11.8"
  }
 },
 "nbformat": 4,
 "nbformat_minor": 5
}

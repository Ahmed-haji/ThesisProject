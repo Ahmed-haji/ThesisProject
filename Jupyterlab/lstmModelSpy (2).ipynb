{
 "cells": [
  {
   "cell_type": "code",
   "execution_count": null,
   "metadata": {
    "id": "5gjkDN-q6EOT"
   },
   "outputs": [],
   "source": [
    "import yfinance as yf\n",
    "import numpy as np\n",
    "import pandas as pd\n",
    "import matplotlib.pyplot as plt\n",
    "from tensorflow import keras\n",
    "from keras import layers\n",
    "from sklearn import preprocessing\n",
    "from sklearn.model_selection import TimeSeriesSplit"
   ]
  },
  {
   "cell_type": "markdown",
   "metadata": {
    "id": "npSaaFZ4dO7o"
   },
   "source": []
  },
  {
   "cell_type": "code",
   "execution_count": null,
   "metadata": {
    "id": "41bWkc7ZAt3O"
   },
   "outputs": [],
   "source": [
    "aaplHistIV = pd.read_pickle('/content/aapl_mean_iv_2017_2022.pkl')\n",
    "googHistIV = pd.read_pickle('/content/goog_mean_iv_2017_2022.pkl')\n",
    "msftHistIV = pd.read_pickle('/content/msft_mean_iv_2017_2022.pkl')\n",
    "ndxHistIV = pd.read_pickle('/content/ndx_mean_iv_2017_2022.pkl')\n",
    "spyHistIV = pd.read_pickle('/content/spc_mean_iv_2017_2022.pkl')\n"
   ]
  },
  {
   "cell_type": "code",
   "execution_count": null,
   "metadata": {
    "id": "psUl6Ndm_lRg"
   },
   "outputs": [],
   "source": [
    "spyHistIV.rename(columns = {'date':'Date'},inplace = True) #renaming date column to Date for consistency\n",
    "spyHistIV.set_index('Date',inplace = True,drop = True) #setting index to date"
   ]
  },
  {
   "cell_type": "code",
   "execution_count": null,
   "metadata": {
    "colab": {
     "base_uri": "https://localhost:8080/",
     "height": 254
    },
    "id": "LH7B0EMs6uoR",
    "outputId": "d885b2fe-4bb7-4688-fc7b-47d374767ac6"
   },
   "outputs": [
    {
     "output_type": "stream",
     "name": "stderr",
     "text": [
      "\r[*********************100%%**********************]  1 of 1 completed\n"
     ]
    },
    {
     "output_type": "execute_result",
     "data": {
      "text/plain": [
       "                   Open         High          Low        Close    Adj Close  \\\n",
       "Date                                                                          \n",
       "2016-01-04  2038.199951  2038.199951  1989.680054  2012.660034  2012.660034   \n",
       "2016-01-05  2013.780029  2021.939941  2004.170044  2016.709961  2016.709961   \n",
       "2016-01-06  2011.709961  2011.709961  1979.050049  1990.260010  1990.260010   \n",
       "2016-01-07  1985.319946  1985.319946  1938.829956  1943.089966  1943.089966   \n",
       "2016-01-08  1945.969971  1960.400024  1918.459961  1922.030029  1922.030029   \n",
       "\n",
       "                Volume  Daily Return  21dRealisedVol  \n",
       "Date                                                  \n",
       "2016-01-04  4304880000           NaN             NaN  \n",
       "2016-01-05  3706620000      0.002012             NaN  \n",
       "2016-01-06  4336660000     -0.013115             NaN  \n",
       "2016-01-07  5076590000     -0.023700             NaN  \n",
       "2016-01-08  4664940000     -0.010838             NaN  "
      ],
      "text/html": [
       "\n",
       "  <div id=\"df-c34170e1-3868-441e-81e1-751b5cd78125\" class=\"colab-df-container\">\n",
       "    <div>\n",
       "<style scoped>\n",
       "    .dataframe tbody tr th:only-of-type {\n",
       "        vertical-align: middle;\n",
       "    }\n",
       "\n",
       "    .dataframe tbody tr th {\n",
       "        vertical-align: top;\n",
       "    }\n",
       "\n",
       "    .dataframe thead th {\n",
       "        text-align: right;\n",
       "    }\n",
       "</style>\n",
       "<table border=\"1\" class=\"dataframe\">\n",
       "  <thead>\n",
       "    <tr style=\"text-align: right;\">\n",
       "      <th></th>\n",
       "      <th>Open</th>\n",
       "      <th>High</th>\n",
       "      <th>Low</th>\n",
       "      <th>Close</th>\n",
       "      <th>Adj Close</th>\n",
       "      <th>Volume</th>\n",
       "      <th>Daily Return</th>\n",
       "      <th>21dRealisedVol</th>\n",
       "    </tr>\n",
       "    <tr>\n",
       "      <th>Date</th>\n",
       "      <th></th>\n",
       "      <th></th>\n",
       "      <th></th>\n",
       "      <th></th>\n",
       "      <th></th>\n",
       "      <th></th>\n",
       "      <th></th>\n",
       "      <th></th>\n",
       "    </tr>\n",
       "  </thead>\n",
       "  <tbody>\n",
       "    <tr>\n",
       "      <th>2016-01-04</th>\n",
       "      <td>2038.199951</td>\n",
       "      <td>2038.199951</td>\n",
       "      <td>1989.680054</td>\n",
       "      <td>2012.660034</td>\n",
       "      <td>2012.660034</td>\n",
       "      <td>4304880000</td>\n",
       "      <td>NaN</td>\n",
       "      <td>NaN</td>\n",
       "    </tr>\n",
       "    <tr>\n",
       "      <th>2016-01-05</th>\n",
       "      <td>2013.780029</td>\n",
       "      <td>2021.939941</td>\n",
       "      <td>2004.170044</td>\n",
       "      <td>2016.709961</td>\n",
       "      <td>2016.709961</td>\n",
       "      <td>3706620000</td>\n",
       "      <td>0.002012</td>\n",
       "      <td>NaN</td>\n",
       "    </tr>\n",
       "    <tr>\n",
       "      <th>2016-01-06</th>\n",
       "      <td>2011.709961</td>\n",
       "      <td>2011.709961</td>\n",
       "      <td>1979.050049</td>\n",
       "      <td>1990.260010</td>\n",
       "      <td>1990.260010</td>\n",
       "      <td>4336660000</td>\n",
       "      <td>-0.013115</td>\n",
       "      <td>NaN</td>\n",
       "    </tr>\n",
       "    <tr>\n",
       "      <th>2016-01-07</th>\n",
       "      <td>1985.319946</td>\n",
       "      <td>1985.319946</td>\n",
       "      <td>1938.829956</td>\n",
       "      <td>1943.089966</td>\n",
       "      <td>1943.089966</td>\n",
       "      <td>5076590000</td>\n",
       "      <td>-0.023700</td>\n",
       "      <td>NaN</td>\n",
       "    </tr>\n",
       "    <tr>\n",
       "      <th>2016-01-08</th>\n",
       "      <td>1945.969971</td>\n",
       "      <td>1960.400024</td>\n",
       "      <td>1918.459961</td>\n",
       "      <td>1922.030029</td>\n",
       "      <td>1922.030029</td>\n",
       "      <td>4664940000</td>\n",
       "      <td>-0.010838</td>\n",
       "      <td>NaN</td>\n",
       "    </tr>\n",
       "  </tbody>\n",
       "</table>\n",
       "</div>\n",
       "    <div class=\"colab-df-buttons\">\n",
       "\n",
       "  <div class=\"colab-df-container\">\n",
       "    <button class=\"colab-df-convert\" onclick=\"convertToInteractive('df-c34170e1-3868-441e-81e1-751b5cd78125')\"\n",
       "            title=\"Convert this dataframe to an interactive table.\"\n",
       "            style=\"display:none;\">\n",
       "\n",
       "  <svg xmlns=\"http://www.w3.org/2000/svg\" height=\"24px\" viewBox=\"0 -960 960 960\">\n",
       "    <path d=\"M120-120v-720h720v720H120Zm60-500h600v-160H180v160Zm220 220h160v-160H400v160Zm0 220h160v-160H400v160ZM180-400h160v-160H180v160Zm440 0h160v-160H620v160ZM180-180h160v-160H180v160Zm440 0h160v-160H620v160Z\"/>\n",
       "  </svg>\n",
       "    </button>\n",
       "\n",
       "  <style>\n",
       "    .colab-df-container {\n",
       "      display:flex;\n",
       "      gap: 12px;\n",
       "    }\n",
       "\n",
       "    .colab-df-convert {\n",
       "      background-color: #E8F0FE;\n",
       "      border: none;\n",
       "      border-radius: 50%;\n",
       "      cursor: pointer;\n",
       "      display: none;\n",
       "      fill: #1967D2;\n",
       "      height: 32px;\n",
       "      padding: 0 0 0 0;\n",
       "      width: 32px;\n",
       "    }\n",
       "\n",
       "    .colab-df-convert:hover {\n",
       "      background-color: #E2EBFA;\n",
       "      box-shadow: 0px 1px 2px rgba(60, 64, 67, 0.3), 0px 1px 3px 1px rgba(60, 64, 67, 0.15);\n",
       "      fill: #174EA6;\n",
       "    }\n",
       "\n",
       "    .colab-df-buttons div {\n",
       "      margin-bottom: 4px;\n",
       "    }\n",
       "\n",
       "    [theme=dark] .colab-df-convert {\n",
       "      background-color: #3B4455;\n",
       "      fill: #D2E3FC;\n",
       "    }\n",
       "\n",
       "    [theme=dark] .colab-df-convert:hover {\n",
       "      background-color: #434B5C;\n",
       "      box-shadow: 0px 1px 3px 1px rgba(0, 0, 0, 0.15);\n",
       "      filter: drop-shadow(0px 1px 2px rgba(0, 0, 0, 0.3));\n",
       "      fill: #FFFFFF;\n",
       "    }\n",
       "  </style>\n",
       "\n",
       "    <script>\n",
       "      const buttonEl =\n",
       "        document.querySelector('#df-c34170e1-3868-441e-81e1-751b5cd78125 button.colab-df-convert');\n",
       "      buttonEl.style.display =\n",
       "        google.colab.kernel.accessAllowed ? 'block' : 'none';\n",
       "\n",
       "      async function convertToInteractive(key) {\n",
       "        const element = document.querySelector('#df-c34170e1-3868-441e-81e1-751b5cd78125');\n",
       "        const dataTable =\n",
       "          await google.colab.kernel.invokeFunction('convertToInteractive',\n",
       "                                                    [key], {});\n",
       "        if (!dataTable) return;\n",
       "\n",
       "        const docLinkHtml = 'Like what you see? Visit the ' +\n",
       "          '<a target=\"_blank\" href=https://colab.research.google.com/notebooks/data_table.ipynb>data table notebook</a>'\n",
       "          + ' to learn more about interactive tables.';\n",
       "        element.innerHTML = '';\n",
       "        dataTable['output_type'] = 'display_data';\n",
       "        await google.colab.output.renderOutput(dataTable, element);\n",
       "        const docLink = document.createElement('div');\n",
       "        docLink.innerHTML = docLinkHtml;\n",
       "        element.appendChild(docLink);\n",
       "      }\n",
       "    </script>\n",
       "  </div>\n",
       "\n",
       "\n",
       "<div id=\"df-2ae7e39a-16d4-4a0c-86a2-23ba773484cc\">\n",
       "  <button class=\"colab-df-quickchart\" onclick=\"quickchart('df-2ae7e39a-16d4-4a0c-86a2-23ba773484cc')\"\n",
       "            title=\"Suggest charts\"\n",
       "            style=\"display:none;\">\n",
       "\n",
       "<svg xmlns=\"http://www.w3.org/2000/svg\" height=\"24px\"viewBox=\"0 0 24 24\"\n",
       "     width=\"24px\">\n",
       "    <g>\n",
       "        <path d=\"M19 3H5c-1.1 0-2 .9-2 2v14c0 1.1.9 2 2 2h14c1.1 0 2-.9 2-2V5c0-1.1-.9-2-2-2zM9 17H7v-7h2v7zm4 0h-2V7h2v10zm4 0h-2v-4h2v4z\"/>\n",
       "    </g>\n",
       "</svg>\n",
       "  </button>\n",
       "\n",
       "<style>\n",
       "  .colab-df-quickchart {\n",
       "      --bg-color: #E8F0FE;\n",
       "      --fill-color: #1967D2;\n",
       "      --hover-bg-color: #E2EBFA;\n",
       "      --hover-fill-color: #174EA6;\n",
       "      --disabled-fill-color: #AAA;\n",
       "      --disabled-bg-color: #DDD;\n",
       "  }\n",
       "\n",
       "  [theme=dark] .colab-df-quickchart {\n",
       "      --bg-color: #3B4455;\n",
       "      --fill-color: #D2E3FC;\n",
       "      --hover-bg-color: #434B5C;\n",
       "      --hover-fill-color: #FFFFFF;\n",
       "      --disabled-bg-color: #3B4455;\n",
       "      --disabled-fill-color: #666;\n",
       "  }\n",
       "\n",
       "  .colab-df-quickchart {\n",
       "    background-color: var(--bg-color);\n",
       "    border: none;\n",
       "    border-radius: 50%;\n",
       "    cursor: pointer;\n",
       "    display: none;\n",
       "    fill: var(--fill-color);\n",
       "    height: 32px;\n",
       "    padding: 0;\n",
       "    width: 32px;\n",
       "  }\n",
       "\n",
       "  .colab-df-quickchart:hover {\n",
       "    background-color: var(--hover-bg-color);\n",
       "    box-shadow: 0 1px 2px rgba(60, 64, 67, 0.3), 0 1px 3px 1px rgba(60, 64, 67, 0.15);\n",
       "    fill: var(--button-hover-fill-color);\n",
       "  }\n",
       "\n",
       "  .colab-df-quickchart-complete:disabled,\n",
       "  .colab-df-quickchart-complete:disabled:hover {\n",
       "    background-color: var(--disabled-bg-color);\n",
       "    fill: var(--disabled-fill-color);\n",
       "    box-shadow: none;\n",
       "  }\n",
       "\n",
       "  .colab-df-spinner {\n",
       "    border: 2px solid var(--fill-color);\n",
       "    border-color: transparent;\n",
       "    border-bottom-color: var(--fill-color);\n",
       "    animation:\n",
       "      spin 1s steps(1) infinite;\n",
       "  }\n",
       "\n",
       "  @keyframes spin {\n",
       "    0% {\n",
       "      border-color: transparent;\n",
       "      border-bottom-color: var(--fill-color);\n",
       "      border-left-color: var(--fill-color);\n",
       "    }\n",
       "    20% {\n",
       "      border-color: transparent;\n",
       "      border-left-color: var(--fill-color);\n",
       "      border-top-color: var(--fill-color);\n",
       "    }\n",
       "    30% {\n",
       "      border-color: transparent;\n",
       "      border-left-color: var(--fill-color);\n",
       "      border-top-color: var(--fill-color);\n",
       "      border-right-color: var(--fill-color);\n",
       "    }\n",
       "    40% {\n",
       "      border-color: transparent;\n",
       "      border-right-color: var(--fill-color);\n",
       "      border-top-color: var(--fill-color);\n",
       "    }\n",
       "    60% {\n",
       "      border-color: transparent;\n",
       "      border-right-color: var(--fill-color);\n",
       "    }\n",
       "    80% {\n",
       "      border-color: transparent;\n",
       "      border-right-color: var(--fill-color);\n",
       "      border-bottom-color: var(--fill-color);\n",
       "    }\n",
       "    90% {\n",
       "      border-color: transparent;\n",
       "      border-bottom-color: var(--fill-color);\n",
       "    }\n",
       "  }\n",
       "</style>\n",
       "\n",
       "  <script>\n",
       "    async function quickchart(key) {\n",
       "      const quickchartButtonEl =\n",
       "        document.querySelector('#' + key + ' button');\n",
       "      quickchartButtonEl.disabled = true;  // To prevent multiple clicks.\n",
       "      quickchartButtonEl.classList.add('colab-df-spinner');\n",
       "      try {\n",
       "        const charts = await google.colab.kernel.invokeFunction(\n",
       "            'suggestCharts', [key], {});\n",
       "      } catch (error) {\n",
       "        console.error('Error during call to suggestCharts:', error);\n",
       "      }\n",
       "      quickchartButtonEl.classList.remove('colab-df-spinner');\n",
       "      quickchartButtonEl.classList.add('colab-df-quickchart-complete');\n",
       "    }\n",
       "    (() => {\n",
       "      let quickchartButtonEl =\n",
       "        document.querySelector('#df-2ae7e39a-16d4-4a0c-86a2-23ba773484cc button');\n",
       "      quickchartButtonEl.style.display =\n",
       "        google.colab.kernel.accessAllowed ? 'block' : 'none';\n",
       "    })();\n",
       "  </script>\n",
       "</div>\n",
       "    </div>\n",
       "  </div>\n"
      ],
      "application/vnd.google.colaboratory.intrinsic+json": {
       "type": "dataframe",
       "summary": "{\n  \"name\": \"#\",\n  \"rows\": 5,\n  \"fields\": [\n    {\n      \"column\": \"Date\",\n      \"properties\": {\n        \"dtype\": \"date\",\n        \"min\": \"2016-01-04 00:00:00\",\n        \"max\": \"2016-01-08 00:00:00\",\n        \"num_unique_values\": 5,\n        \"samples\": [\n          \"2016-01-05 00:00:00\",\n          \"2016-01-08 00:00:00\",\n          \"2016-01-06 00:00:00\"\n        ],\n        \"semantic_type\": \"\",\n        \"description\": \"\"\n      }\n    },\n    {\n      \"column\": \"Open\",\n      \"properties\": {\n        \"dtype\": \"number\",\n        \"std\": 35.056940612920634,\n        \"min\": 1945.969970703125,\n        \"max\": 2038.199951171875,\n        \"num_unique_values\": 5,\n        \"samples\": [\n          2013.780029296875,\n          1945.969970703125,\n          2011.7099609375\n        ],\n        \"semantic_type\": \"\",\n        \"description\": \"\"\n      }\n    },\n    {\n      \"column\": \"High\",\n      \"properties\": {\n        \"dtype\": \"number\",\n        \"std\": 30.820621271919528,\n        \"min\": 1960.4000244140625,\n        \"max\": 2038.199951171875,\n        \"num_unique_values\": 5,\n        \"samples\": [\n          2021.93994140625,\n          1960.4000244140625,\n          2011.7099609375\n        ],\n        \"semantic_type\": \"\",\n        \"description\": \"\"\n      }\n    },\n    {\n      \"column\": \"Low\",\n      \"properties\": {\n        \"dtype\": \"number\",\n        \"std\": 36.00784758280351,\n        \"min\": 1918.4599609375,\n        \"max\": 2004.1700439453125,\n        \"num_unique_values\": 5,\n        \"samples\": [\n          2004.1700439453125,\n          1918.4599609375,\n          1979.050048828125\n        ],\n        \"semantic_type\": \"\",\n        \"description\": \"\"\n      }\n    },\n    {\n      \"column\": \"Close\",\n      \"properties\": {\n        \"dtype\": \"number\",\n        \"std\": 42.41439169523925,\n        \"min\": 1922.030029296875,\n        \"max\": 2016.7099609375,\n        \"num_unique_values\": 5,\n        \"samples\": [\n          2016.7099609375,\n          1922.030029296875,\n          1990.260009765625\n        ],\n        \"semantic_type\": \"\",\n        \"description\": \"\"\n      }\n    },\n    {\n      \"column\": \"Adj Close\",\n      \"properties\": {\n        \"dtype\": \"number\",\n        \"std\": 42.41439169523925,\n        \"min\": 1922.030029296875,\n        \"max\": 2016.7099609375,\n        \"num_unique_values\": 5,\n        \"samples\": [\n          2016.7099609375,\n          1922.030029296875,\n          1990.260009765625\n        ],\n        \"semantic_type\": \"\",\n        \"description\": \"\"\n      }\n    },\n    {\n      \"column\": \"Volume\",\n      \"properties\": {\n        \"dtype\": \"number\",\n        \"std\": 505023258,\n        \"min\": 3706620000,\n        \"max\": 5076590000,\n        \"num_unique_values\": 5,\n        \"samples\": [\n          3706620000,\n          4664940000,\n          4336660000\n        ],\n        \"semantic_type\": \"\",\n        \"description\": \"\"\n      }\n    },\n    {\n      \"column\": \"Daily Return\",\n      \"properties\": {\n        \"dtype\": \"number\",\n        \"std\": 0.01055850797255948,\n        \"min\": -0.023700443014411654,\n        \"max\": 0.0020122259542274534,\n        \"num_unique_values\": 4,\n        \"samples\": [\n          -0.013115396702646942,\n          -0.010838374390218508,\n          0.0020122259542274534\n        ],\n        \"semantic_type\": \"\",\n        \"description\": \"\"\n      }\n    },\n    {\n      \"column\": \"21dRealisedVol\",\n      \"properties\": {\n        \"dtype\": \"number\",\n        \"std\": null,\n        \"min\": null,\n        \"max\": null,\n        \"num_unique_values\": 0,\n        \"samples\": [],\n        \"semantic_type\": \"\",\n        \"description\": \"\"\n      }\n    }\n  ]\n}"
      }
     },
     "metadata": {},
     "execution_count": 59
    }
   ],
   "source": [
    "#grab spy  from yfinance\n",
    "\n",
    "spyHistory = yf.download('^GSPC', start='2016-01-01', end='2023-12-31')\n",
    "#calculate realised vol\n",
    "window =21 #realisedVol window size\n",
    "spyHistory['Daily Return'] = spyHistory['Adj Close'].pct_change()\n",
    "spyHistory['21dRealisedVol'] = spyHistory['Daily Return'].rolling(window=window).std() * np.sqrt(252)\n",
    "spyHistory.head()\n",
    "#\n",
    "\n"
   ]
  },
  {
   "cell_type": "code",
   "execution_count": null,
   "metadata": {
    "colab": {
     "base_uri": "https://localhost:8080/",
     "height": 447
    },
    "id": "YntAoZmw_8JZ",
    "outputId": "744376dc-a6de-4d42-e427-e0574c3a49f0"
   },
   "outputs": [
    {
     "output_type": "execute_result",
     "data": {
      "text/plain": [
       "[<matplotlib.lines.Line2D at 0x7a882405fd60>]"
      ]
     },
     "metadata": {},
     "execution_count": 60
    },
    {
     "output_type": "display_data",
     "data": {
      "text/plain": [
       "<Figure size 640x480 with 1 Axes>"
      ],
      "image/png": "[encoded data removed]"
     },
     "metadata": {}
    }
   ],
   "source": [
    "plt.plot(spyHistory['21dRealisedVol'])"
   ]
  },
  {
   "cell_type": "code",
   "execution_count": null,
   "metadata": {
    "colab": {
     "base_uri": "https://localhost:8080/"
    },
    "id": "G7FGxCwoQpnX",
    "outputId": "27fd43c4-0794-49b7-a8c5-bcae4d1aefa8"
   },
   "outputs": [
    {
     "output_type": "execute_result",
     "data": {
      "text/plain": [
       "Date\n",
       "2017-01-03    0.180221\n",
       "2017-01-04    0.157412\n",
       "2017-01-05    0.167569\n",
       "2017-01-06    0.132018\n",
       "2017-01-09    0.142141\n",
       "Name: average_iv, dtype: float64"
      ]
     },
     "metadata": {},
     "execution_count": 61
    }
   ],
   "source": [
    "spyHistIV['average_iv'].head()"
   ]
  },
  {
   "cell_type": "code",
   "execution_count": null,
   "metadata": {
    "colab": {
     "base_uri": "https://localhost:8080/"
    },
    "id": "U0dqUnxCJc8n",
    "outputId": "55814b82-d852-4dca-8271-411a76741a53"
   },
   "outputs": [
    {
     "output_type": "execute_result",
     "data": {
      "text/plain": [
       "Date\n",
       "2017-01-03    0.008487\n",
       "2017-01-04    0.005722\n",
       "2017-01-05   -0.000771\n",
       "2017-01-06    0.003517\n",
       "2017-01-09   -0.003549\n",
       "Name: Daily Return, dtype: float64"
      ]
     },
     "metadata": {},
     "execution_count": 62
    }
   ],
   "source": [
    "\n",
    "spyHistory['Daily Return']['2017':'2021'].head()"
   ]
  },
  {
   "cell_type": "code",
   "execution_count": null,
   "metadata": {
    "colab": {
     "base_uri": "https://localhost:8080/"
    },
    "id": "cq_oCFyHM7aY",
    "outputId": "2aebd0c9-e3e6-4311-ef85-ceb4bc8bdf9b"
   },
   "outputs": [
    {
     "output_type": "execute_result",
     "data": {
      "text/plain": [
       "Date\n",
       "2017-01-03    0.082484\n",
       "2017-01-04    0.083687\n",
       "2017-01-05    0.082703\n",
       "2017-01-06    0.082736\n",
       "2017-01-09    0.072371\n",
       "Name: 21dRealisedVol, dtype: float64"
      ]
     },
     "metadata": {},
     "execution_count": 63
    }
   ],
   "source": [
    "spyHistory['21dRealisedVol']['2017':'2021'].head()"
   ]
  },
  {
   "cell_type": "code",
   "execution_count": null,
   "metadata": {
    "id": "HSFoDvT__MUj"
   },
   "outputs": [],
   "source": [
    "historicIVSeries = spyHistIV['average_iv']\n",
    "dailyReturnSeries= spyHistory['Daily Return']['2017':'2021']\n",
    "dailyRealisedVolSeries = spyHistory['21dRealisedVol']['2017':'2021']\n",
    "df_combined = pd.concat([historicIVSeries,dailyReturnSeries,dailyRealisedVolSeries], axis=1)\n",
    "\n",
    "# Scale the data\n",
    "scaler = preprocessing.StandardScaler().fit(df_combined)\n",
    "scaled_data = scaler.transform(df_combined)"
   ]
  },
  {
   "cell_type": "code",
   "execution_count": null,
   "metadata": {
    "id": "Zc2CJIcUtilY"
   },
   "outputs": [],
   "source": [
    "data = scaled_data\n",
    "seq_length = 60\n",
    "n_features = data.shape[1]\n"
   ]
  },
  {
   "cell_type": "code",
   "execution_count": null,
   "metadata": {
    "id": "XBNnWnxrhTJZ"
   },
   "outputs": [],
   "source": [
    "def create_sequences(data, seq_length):\n",
    "    xs, ys = [], []\n",
    "    for i in range(len(data) - seq_length - 3):\n",
    "        x = data[i:(i + seq_length)]\n",
    "        y = data[(i + seq_length), 0]  # Next 3-day IV\n",
    "        xs.append(x)\n",
    "        ys.append(y)\n",
    "    return np.array(xs), np.array(ys)"
   ]
  },
  {
   "cell_type": "code",
   "execution_count": null,
   "metadata": {
    "id": "fhTmnHLOGv2R"
   },
   "outputs": [],
   "source": [
    "X, y = create_sequences(data, seq_length)\n",
    "\n",
    "tscv = TimeSeriesSplit(n_splits=5)\n",
    "\n",
    "for train_index, test_index in tscv.split(X):\n",
    "    X_train, X_test = X[train_index], X[test_index]\n",
    "    y_train, y_test = y[train_index], y[test_index]\n",
    "\n"
   ]
  },
  {
   "cell_type": "code",
   "source": [
    "len(y)"
   ],
   "metadata": {
    "colab": {
     "base_uri": "https://localhost:8080/"
    },
    "id": "R_0JjhrcPlQx",
    "outputId": "40a64e39-142d-4f65-8c3c-8f7abe1c1e7b"
   },
   "execution_count": null,
   "outputs": [
    {
     "output_type": "execute_result",
     "data": {
      "text/plain": [
       "1196"
      ]
     },
     "metadata": {},
     "execution_count": 68
    }
   ]
  },
  {
   "cell_type": "markdown",
   "metadata": {
    "id": "8uuPq50zGrxg"
   },
   "source": []
  },
  {
   "cell_type": "code",
   "execution_count": null,
   "metadata": {
    "id": "SP2y-wEVhass"
   },
   "outputs": [],
   "source": [
    "model = keras.Sequential([\n",
    "    layers.GRU(100, input_shape=(seq_length, n_features), return_sequences=False),\n",
    "    layers.Dense(1)\n",
    "])"
   ]
  },
  {
   "cell_type": "code",
   "execution_count": null,
   "metadata": {
    "id": "Eg-eECTCkmP1"
   },
   "outputs": [],
   "source": [
    "model.compile(optimizer='adam', loss='mse')\n"
   ]
  },
  {
   "cell_type": "code",
   "execution_count": null,
   "metadata": {
    "colab": {
     "base_uri": "https://localhost:8080/"
    },
    "id": "ergKlFlalBj-",
    "outputId": "db31c494-0a31-4738-dd3e-0bc747df5be1"
   },
   "outputs": [
    {
     "output_type": "stream",
     "name": "stdout",
     "text": [
      "Epoch 1/50\n",
      "797/797 [==============================] - 7s 6ms/step - loss: 0.1382 - val_loss: 0.0932\n",
      "Epoch 2/50\n",
      "797/797 [==============================] - 5s 6ms/step - loss: 0.1131 - val_loss: 0.0965\n",
      "Epoch 3/50\n",
      "797/797 [==============================] - 4s 5ms/step - loss: 0.1035 - val_loss: 0.0972\n",
      "Epoch 4/50\n",
      "797/797 [==============================] - 4s 5ms/step - loss: 0.1040 - val_loss: 0.0770\n",
      "Epoch 5/50\n",
      "797/797 [==============================] - 5s 6ms/step - loss: 0.0941 - val_loss: 0.0702\n",
      "Epoch 6/50\n",
      "797/797 [==============================] - 4s 5ms/step - loss: 0.0900 - val_loss: 0.1344\n",
      "Epoch 7/50\n",
      "797/797 [==============================] - 4s 5ms/step - loss: 0.1011 - val_loss: 0.0758\n",
      "Epoch 8/50\n",
      "797/797 [==============================] - 5s 6ms/step - loss: 0.0941 - val_loss: 0.1347\n",
      "Epoch 9/50\n",
      "797/797 [==============================] - 4s 5ms/step - loss: 0.0861 - val_loss: 0.0820\n",
      "Epoch 10/50\n",
      "797/797 [==============================] - 4s 5ms/step - loss: 0.0912 - val_loss: 0.0840\n",
      "Epoch 11/50\n",
      "797/797 [==============================] - 5s 6ms/step - loss: 0.0833 - val_loss: 0.0854\n",
      "Epoch 12/50\n",
      "797/797 [==============================] - 4s 5ms/step - loss: 0.0810 - val_loss: 0.1183\n",
      "Epoch 13/50\n",
      "797/797 [==============================] - 4s 5ms/step - loss: 0.0761 - val_loss: 0.2421\n",
      "Epoch 14/50\n",
      "797/797 [==============================] - 5s 7ms/step - loss: 0.0872 - val_loss: 0.0949\n",
      "Epoch 15/50\n",
      "797/797 [==============================] - 4s 5ms/step - loss: 0.0748 - val_loss: 0.0960\n",
      "Epoch 16/50\n",
      "797/797 [==============================] - 4s 5ms/step - loss: 0.0805 - val_loss: 0.0859\n",
      "Epoch 17/50\n",
      "797/797 [==============================] - 5s 6ms/step - loss: 0.0695 - val_loss: 0.0969\n",
      "Epoch 18/50\n",
      "797/797 [==============================] - 4s 5ms/step - loss: 0.0751 - val_loss: 0.0958\n",
      "Epoch 19/50\n",
      "797/797 [==============================] - 4s 5ms/step - loss: 0.0690 - val_loss: 0.0872\n",
      "Epoch 20/50\n",
      "797/797 [==============================] - 5s 6ms/step - loss: 0.0698 - val_loss: 0.1156\n",
      "Epoch 21/50\n",
      "797/797 [==============================] - 4s 5ms/step - loss: 0.0651 - val_loss: 0.0991\n",
      "Epoch 22/50\n",
      "797/797 [==============================] - 4s 5ms/step - loss: 0.0710 - val_loss: 0.0901\n",
      "Epoch 23/50\n",
      "797/797 [==============================] - 5s 6ms/step - loss: 0.0624 - val_loss: 0.1326\n",
      "Epoch 24/50\n",
      "797/797 [==============================] - 4s 5ms/step - loss: 0.0688 - val_loss: 0.0971\n",
      "Epoch 25/50\n",
      "797/797 [==============================] - 4s 5ms/step - loss: 0.0655 - val_loss: 0.1172\n",
      "Epoch 26/50\n",
      "797/797 [==============================] - 4s 6ms/step - loss: 0.0555 - val_loss: 0.1024\n",
      "Epoch 27/50\n",
      "797/797 [==============================] - 4s 5ms/step - loss: 0.0562 - val_loss: 0.1246\n",
      "Epoch 28/50\n",
      "797/797 [==============================] - 4s 5ms/step - loss: 0.0570 - val_loss: 0.1098\n",
      "Epoch 29/50\n",
      "797/797 [==============================] - 4s 5ms/step - loss: 0.0557 - val_loss: 0.1199\n",
      "Epoch 30/50\n",
      "797/797 [==============================] - 5s 6ms/step - loss: 0.0582 - val_loss: 0.1236\n",
      "Epoch 31/50\n",
      "797/797 [==============================] - 4s 5ms/step - loss: 0.0539 - val_loss: 0.1080\n",
      "Epoch 32/50\n",
      "797/797 [==============================] - 4s 5ms/step - loss: 0.0499 - val_loss: 0.1193\n",
      "Epoch 33/50\n",
      "797/797 [==============================] - 5s 6ms/step - loss: 0.0508 - val_loss: 0.1106\n",
      "Epoch 34/50\n",
      "797/797 [==============================] - 4s 5ms/step - loss: 0.0512 - val_loss: 0.0981\n",
      "Epoch 35/50\n",
      "797/797 [==============================] - 5s 6ms/step - loss: 0.0481 - val_loss: 0.1315\n",
      "Epoch 36/50\n",
      "797/797 [==============================] - 4s 5ms/step - loss: 0.0459 - val_loss: 0.1130\n",
      "Epoch 37/50\n",
      "797/797 [==============================] - 4s 5ms/step - loss: 0.0435 - val_loss: 0.1365\n",
      "Epoch 38/50\n",
      "797/797 [==============================] - 5s 6ms/step - loss: 0.0495 - val_loss: 0.1216\n",
      "Epoch 39/50\n",
      "797/797 [==============================] - 4s 5ms/step - loss: 0.0430 - val_loss: 0.1181\n",
      "Epoch 40/50\n",
      "797/797 [==============================] - 4s 5ms/step - loss: 0.0557 - val_loss: 0.1078\n",
      "Epoch 41/50\n",
      "797/797 [==============================] - 4s 5ms/step - loss: 0.0402 - val_loss: 0.1227\n",
      "Epoch 42/50\n",
      "797/797 [==============================] - 4s 6ms/step - loss: 0.0379 - val_loss: 0.1414\n",
      "Epoch 43/50\n",
      "797/797 [==============================] - 4s 5ms/step - loss: 0.0372 - val_loss: 0.1150\n",
      "Epoch 44/50\n",
      "797/797 [==============================] - 4s 5ms/step - loss: 0.0434 - val_loss: 0.0979\n",
      "Epoch 45/50\n",
      "797/797 [==============================] - 5s 6ms/step - loss: 0.0392 - val_loss: 0.1347\n",
      "Epoch 46/50\n",
      "797/797 [==============================] - 4s 5ms/step - loss: 0.0367 - val_loss: 0.1244\n",
      "Epoch 47/50\n",
      "797/797 [==============================] - 4s 5ms/step - loss: 0.0344 - val_loss: 0.1125\n",
      "Epoch 48/50\n",
      "797/797 [==============================] - 5s 6ms/step - loss: 0.0374 - val_loss: 0.1254\n",
      "Epoch 49/50\n",
      "797/797 [==============================] - 4s 5ms/step - loss: 0.0340 - val_loss: 0.1365\n",
      "Epoch 50/50\n",
      "797/797 [==============================] - 4s 5ms/step - loss: 0.0336 - val_loss: 0.1094\n"
     ]
    }
   ],
   "source": [
    "history = model.fit(X_train, y_train, epochs=50, batch_size=1, validation_split=0.2)\n"
   ]
  },
  {
   "cell_type": "code",
   "source": [],
   "metadata": {
    "id": "GRQdip-wQ_-u"
   },
   "execution_count": null,
   "outputs": []
  },
  {
   "cell_type": "code",
   "execution_count": null,
   "metadata": {
    "colab": {
     "base_uri": "https://localhost:8080/",
     "height": 487
    },
    "id": "agl6EOvmuNJv",
    "outputId": "cb2e4e30-5d9c-4e33-c382-53eb20d36358"
   },
   "outputs": [
    {
     "output_type": "display_data",
     "data": {
      "text/plain": [
       "<Figure size 1000x500 with 1 Axes>"
      ],
      "image/png": "[encoded data removed]"
     },
     "metadata": {}
    }
   ],
   "source": [
    "# Plotting the training and validation loss\n",
    "plt.figure(figsize=(10, 5))\n",
    "plt.plot(history.history['loss'], label='Train Loss')\n",
    "plt.plot(history.history['val_loss'], label='Validation Loss')\n",
    "plt.title('Model Loss Over Epochs')\n",
    "plt.ylabel('Loss')\n",
    "plt.xlabel('Epoch')\n",
    "plt.legend()\n",
    "plt.show()"
   ]
  },
  {
   "cell_type": "code",
   "execution_count": null,
   "metadata": {
    "colab": {
     "base_uri": "https://localhost:8080/"
    },
    "id": "iRar3SpO5uXh",
    "outputId": "da21713d-a5ed-4aef-b36b-156d29f6b3c7"
   },
   "outputs": [
    {
     "output_type": "stream",
     "name": "stdout",
     "text": [
      "7/7 [==============================] - 0s 4ms/step - loss: 0.0516\n",
      "Test Loss: 0.05162354186177254\n"
     ]
    }
   ],
   "source": [
    "test_loss = model.evaluate(X_test, y_test)\n",
    "print(f'Test Loss: {test_loss}')"
   ]
  },
  {
   "cell_type": "code",
   "execution_count": null,
   "metadata": {
    "colab": {
     "base_uri": "https://localhost:8080/"
    },
    "id": "Girf-pG15yxk",
    "outputId": "d8659bce-dbe9-476b-91fc-3e18c65d509c"
   },
   "outputs": [
    {
     "output_type": "stream",
     "name": "stdout",
     "text": [
      "7/7 [==============================] - 0s 3ms/step\n",
      "Mean Squared Error: 0.05162353701759265\n",
      "Root Mean Squared Error: 0.22720813589656655\n",
      "Mean Absolute Error: 0.17569045972282246\n",
      "R squared: 0.44441564355598107\n"
     ]
    }
   ],
   "source": [
    "from sklearn.metrics import mean_squared_error, mean_absolute_error, r2_score\n",
    "import numpy as np\n",
    "\n",
    "y_pred = model.predict(X_test)\n",
    "y_test = np.array(y_test)  # Ensure y_test is a numpy array for consistency\n",
    "\n",
    "# Calculate MSE\n",
    "mse = mean_squared_error(y_test, y_pred)\n",
    "print(\"Mean Squared Error:\", mse)\n",
    "\n",
    "# Calculate RMSE\n",
    "rmse = np.sqrt(mse)\n",
    "print(\"Root Mean Squared Error:\", rmse)\n",
    "\n",
    "# Calculate MAE\n",
    "mae = mean_absolute_error(y_test, y_pred)\n",
    "print(\"Mean Absolute Error:\", mae)\n",
    "\n",
    "# Calculate R^2\n",
    "r2 = r2_score(y_test, y_pred)\n",
    "print(\"R squared:\", r2)\n"
   ]
  },
  {
   "cell_type": "code",
   "source": [
    "def create_sequences(data, seq_length):\n",
    "    xs, ys = [], []\n",
    "    for i in range(len(data) - seq_length - 3):\n",
    "        x = data[i:(i + seq_length)]\n",
    "        y = data[(i + seq_length), 0]  # Next 3-day IV\n",
    "        xs.append(x)\n",
    "        ys.append(y)\n",
    "    return np.array(xs), np.array(ys)\n",
    "\n",
    "def create_model(seq_length, n_features):\n",
    "    model = keras.Sequential([\n",
    "        layers.GRU(100, input_shape=(seq_length, n_features), return_sequences=False),\n",
    "        layers.Dense(1)\n",
    "    ])\n",
    "    model.compile(optimizer='adam', loss='mse')\n",
    "    return model\n",
    "def evaluate_model(model, X_test, y_test):\n",
    "    test_loss = model.evaluate(X_test, y_test)\n",
    "    print(f'Test Loss: {test_loss}')\n",
    "\n",
    "    y_pred = model.predict(X_test)\n",
    "    y_test = np.array(y_test)  # Ensure y_test is a numpy array for consistency\n",
    "\n",
    "    # Calculate MSE\n",
    "    mse = mean_squared_error(y_test, y_pred)\n",
    "    print(\"Mean Squared Error:\", mse)\n",
    "\n",
    "    # Calculate RMSE\n",
    "    rmse = np.sqrt(mse)\n",
    "    print(\"Root Mean Squared Error:\", rmse)\n",
    "\n",
    "    # Calculate MAE\n",
    "    mae = mean_absolute_error(y_test, y_pred)\n",
    "    print(\"Mean Absolute Error:\", mae)\n",
    "\n",
    "    # Calculate R^2\n",
    "    r2 = r2_score(y_test, y_pred)\n",
    "    print(\"R squared:\", r2)\n",
    "\n",
    "    return mse, rmse, mae, r2\n",
    "\n",
    "def train_model(X_train, y_train, X_test, y_test):\n",
    "    model = create_model(seq_length, n_features)\n",
    "    history = model.fit(X_train, y_train, epochs=50, batch_size=1, validation_split=0.2)\n",
    "    evaluate_model(model, X_test, y_test)\n",
    "    return model, history\n",
    "\n",
    "def plot_loss(history):\n",
    "    # Plotting the training and validation loss\n",
    "    plt.figure(figsize=(10, 5))\n",
    "    plt.plot(history.history['loss'], label='Train Loss')\n",
    "    plt.plot(history.history['val_loss'], label='Validation Loss')\n",
    "    plt.title('Model Loss Over Epochs')\n",
    "    plt.ylabel('Loss')\n",
    "    plt.xlabel('Epoch')\n",
    "    plt.legend()\n",
    "    plt.show()\n",
    "\n"
   ],
   "metadata": {
    "id": "RJVeg4ikLDWV"
   },
   "execution_count": 1,
   "outputs": []
  }
 ],
 "metadata": {
  "accelerator": "GPU",
  "colab": {
   "gpuType": "T4",
   "provenance": []
  },
  "kernelspec": {
   "display_name": "Python 3",
   "name": "python3"
  },
  "language_info": {
   "name": "python"
  }
 },
 "nbformat": 4,
 "nbformat_minor": 0
}
